{
 "cells": [
  {
   "cell_type": "code",
   "execution_count": 1,
   "metadata": {},
   "outputs": [],
   "source": [
    "import os\n",
    "import numpy as np\n",
    "import copy\n",
    "import pandas as pd\n",
    "import matplotlib.pyplot as plt\n",
    "import seaborn as sns\n",
    "from scipy import stats\n",
    "\n",
    "from sklearn.metrics import accuracy_score, classification_report, confusion_matrix\n",
    "from sklearn import neighbors\n",
    "from sklearn.model_selection import train_test_split\n",
    "from sklearn.model_selection import GridSearchCV"
   ]
  },
  {
   "cell_type": "code",
   "execution_count": 2,
   "metadata": {},
   "outputs": [
    {
     "data": {
      "text/plain": [
       "['.gitignore',\n",
       " '.ipynb_checkpoints',\n",
       " 'BlackFriday KNN.ipynb',\n",
       " 'BlackFriday.csv']"
      ]
     },
     "execution_count": 2,
     "metadata": {},
     "output_type": "execute_result"
    }
   ],
   "source": [
    "os.listdir()"
   ]
  },
  {
   "cell_type": "code",
   "execution_count": 3,
   "metadata": {},
   "outputs": [
    {
     "name": "stdout",
     "output_type": "stream",
     "text": [
      "<class 'pandas.core.frame.DataFrame'>\n",
      "RangeIndex: 537577 entries, 0 to 537576\n",
      "Data columns (total 8 columns):\n",
      "User_ID                       537577 non-null int64\n",
      "Gender                        537577 non-null object\n",
      "Age                           537577 non-null object\n",
      "Occupation                    537577 non-null int64\n",
      "City_Category                 537577 non-null object\n",
      "Stay_In_Current_City_Years    537577 non-null object\n",
      "Marital_Status                537577 non-null int64\n",
      "Purchase                      537577 non-null int64\n",
      "dtypes: int64(4), object(4)\n",
      "memory usage: 32.8+ MB\n",
      "None\n"
     ]
    }
   ],
   "source": [
    "market = pd.read_csv('BlackFriday.csv')\n",
    "market.drop(['Product_ID', 'Product_Category_1', 'Product_Category_2', 'Product_Category_3'],\n",
    "            axis = 1, inplace = True)\n",
    "\n",
    "print(market.info())"
   ]
  },
  {
   "cell_type": "code",
   "execution_count": 4,
   "metadata": {},
   "outputs": [
    {
     "name": "stdout",
     "output_type": "stream",
     "text": [
      "['F' 'M']\n",
      "['0-17' '55+' '26-35' '46-50' '51-55' '36-45' '18-25']\n",
      "[10 16 15  7 20  9  1 12 17  0  3  4 11  8 19  2 18  5 14 13  6]\n",
      "['A' 'C' 'B']\n",
      "['2' '4+' '3' '1' '0']\n",
      "[0 1]\n"
     ]
    }
   ],
   "source": [
    "print(market.Gender.unique())\n",
    "print(market.Age.unique())\n",
    "print(market.Occupation.unique())\n",
    "print(market.City_Category.unique())\n",
    "print(market.Stay_In_Current_City_Years.unique())\n",
    "print(market.Marital_Status.unique())"
   ]
  },
  {
   "cell_type": "code",
   "execution_count": 5,
   "metadata": {},
   "outputs": [
    {
     "name": "stdout",
     "output_type": "stream",
     "text": [
      "<class 'pandas.core.frame.DataFrame'>\n",
      "RangeIndex: 537577 entries, 0 to 537576\n",
      "Data columns (total 8 columns):\n",
      "User_ID           537577 non-null int64\n",
      "Gender            537577 non-null object\n",
      "Age               537577 non-null object\n",
      "Occupation        537577 non-null int64\n",
      "City              537577 non-null object\n",
      "Stay              537577 non-null object\n",
      "Marital_Status    537577 non-null int64\n",
      "Purchase          537577 non-null int64\n",
      "dtypes: int64(4), object(4)\n",
      "memory usage: 32.8+ MB\n",
      "None\n"
     ]
    }
   ],
   "source": [
    "market = market.rename(columns = {'Stay_In_Current_City_Years' : 'Stay', 'City_Category': 'City'})\n",
    "\n",
    "print(market.info())"
   ]
  },
  {
   "cell_type": "code",
   "execution_count": 6,
   "metadata": {},
   "outputs": [
    {
     "name": "stdout",
     "output_type": "stream",
     "text": [
      "<class 'pandas.core.frame.DataFrame'>\n",
      "RangeIndex: 537577 entries, 0 to 537576\n",
      "Data columns (total 8 columns):\n",
      "User_ID           537577 non-null int64\n",
      "Gender            537577 non-null int64\n",
      "Age               537577 non-null int64\n",
      "Occupation        537577 non-null int64\n",
      "City              537577 non-null int64\n",
      "Stay              537577 non-null int64\n",
      "Marital_Status    537577 non-null int64\n",
      "Purchase          537577 non-null int64\n",
      "dtypes: int64(8)\n",
      "memory usage: 32.8 MB\n",
      "None\n"
     ]
    }
   ],
   "source": [
    "market[\"Gender\"] = market['Gender'].apply(lambda g: \"1\" if g == \"M\" else \"0\")\n",
    "\n",
    "\n",
    "market['Age'] = market['Age'].apply(lambda a: \"0\" if a == \"0-17\" else\n",
    "                                        \"1\" if a == \"18-25\" else\n",
    "                                        \"2\" if a == \"26-35\" else\n",
    "                                        \"3\" if a == \"36-45\" else\n",
    "                                        \"4\" if a == \"46-50\" else\n",
    "                                        \"5\" if a == \"51-55\" else \"6\")\n",
    "\n",
    "market['City'] = market['City'].apply(lambda c: \"0\" if c == \"A\" else\n",
    "                                                  \"1\" if c == \"B\" else \"2\")\n",
    "\n",
    "market['Stay'] = market['Stay'].apply(lambda s: \"4\" if s == \"4+\" else s)\n",
    "\n",
    "market['Age'] = market['Age'].astype('int64')\n",
    "market['Gender'] = market['Gender'].astype('int64')\n",
    "market['City'] = market['City'].astype('int64')\n",
    "market['Occupation'] = market['Occupation'].astype('int64')\n",
    "market['Stay'] = market['Stay'].astype('int64')\n",
    "\n",
    "print(market.info())"
   ]
  },
  {
   "cell_type": "code",
   "execution_count": 7,
   "metadata": {},
   "outputs": [],
   "source": [
    "total_purchased = market.groupby(['User_ID', 'City', 'Age', 'Gender', 'Occupation', 'Stay', 'Marital_Status']).sum().reset_index().drop('User_ID', axis = 1)\n",
    "avg_purchased = market.groupby(['User_ID', 'City', 'Age', 'Gender', 'Occupation', 'Stay', 'Marital_Status']).mean().reset_index().drop('User_ID', axis = 1)\n",
    "avg_purchased['Purchase'] = avg_purchased['Purchase'].apply(lambda x: round(x, 0))\n",
    "number_of_products = market.groupby(['User_ID', 'City', 'Age', 'Gender', 'Occupation', 'Stay', 'Marital_Status']).size().to_frame(\"Products\").reset_index().drop('User_ID', axis = 1)\n",
    "\n",
    "market_summ = total_purchased\n",
    "market_summ['Avg'] = avg_purchased['Purchase']\n",
    "market_summ['ProductCount'] = number_of_products['Products']"
   ]
  },
  {
   "cell_type": "code",
   "execution_count": 8,
   "metadata": {},
   "outputs": [
    {
     "data": {
      "image/png": "[encoded data removed]",
      "text/plain": [
       "<Figure size 288x288 with 2 Axes>"
      ]
     },
     "metadata": {
      "needs_background": "light"
     },
     "output_type": "display_data"
    }
   ],
   "source": [
    "plt.matshow(market_summ.corr())\n",
    "plt.gca().xaxis.tick_bottom()\n",
    "plt.xticks(range(len(market_summ.columns)), market_summ.columns)\n",
    "plt.xticks(rotation = 90)\n",
    "plt.yticks(range(len(market_summ.columns)), market_summ.columns)\n",
    "plt.colorbar()\n",
    "plt.title(\"Correlation of all variables\")\n",
    "plt.show()"
   ]
  },
  {
   "cell_type": "code",
   "execution_count": 9,
   "metadata": {},
   "outputs": [],
   "source": [
    "#source - https://www.analyticsvidhya.com/blog/2018/08/k-nearest-neighbor-introduction-regression-python/\n",
    "def optimalK(maxK, X_train, X_test, y_train, y_test):\n",
    "    from math import sqrt\n",
    "    from sklearn.metrics import mean_squared_error\n",
    "\n",
    "    rmse_val = [] #to store rmse values for different k\n",
    "    for K in range(maxK):\n",
    "        K = K+1\n",
    "        model = neighbors.KNeighborsRegressor(n_neighbors = K)\n",
    "\n",
    "        model.fit(X_train, y_train)  #fit the model\n",
    "        pred=model.predict(X_test) #make prediction on test set\n",
    "        error = sqrt(mean_squared_error(y_test,pred)) #calculate rmse\n",
    "        rmse_val.append(error) #store rmse values\n",
    "\n",
    "    #plotting the rmse values against k values\n",
    "    curve = pd.DataFrame(rmse_val) #elbow curve \n",
    "    curve.plot()\n",
    "    \n",
    "    print(\"Optimal k value is: %s\" % (rmse_val.index(min(rmse_val)) + 1))\n",
    "    print('RMSE is %s' % (min(rmse_val)))\n"
   ]
  },
  {
   "cell_type": "markdown",
   "metadata": {},
   "source": [
    "## Predicting products per customer"
   ]
  },
  {
   "cell_type": "code",
   "execution_count": 10,
   "metadata": {},
   "outputs": [
    {
     "name": "stdout",
     "output_type": "stream",
     "text": [
      "Optimal k value is: 71\n",
      "RMSE is 96.6535549092234\n"
     ]
    },
    {
     "data": {
      "image/png": "[encoded data removed]",
      "text/plain": [
       "<Figure size 432x288 with 1 Axes>"
      ]
     },
     "metadata": {
      "needs_background": "light"
     },
     "output_type": "display_data"
    }
   ],
   "source": [
    "#ML to products per customer\n",
    "X_train, X_test, y_train, y_test = train_test_split(number_of_products[['City','Age', 'Gender', 'Stay', 'Marital_Status']],\n",
    "                                                    number_of_products.Products, test_size=0.33)\n",
    "\n",
    "optimalK(200, X_train, X_test, y_train, y_test)"
   ]
  },
  {
   "cell_type": "code",
   "execution_count": 11,
   "metadata": {},
   "outputs": [
    {
     "name": "stdout",
     "output_type": "stream",
     "text": [
      "Actual:    [ 46  11 101  21  37 165]\n",
      "Predicted: [ 57.48  53.52  54.46 139.56  66.83 142.32]\n",
      "Score is: 0.1438066024110688\n"
     ]
    }
   ],
   "source": [
    "knn = neighbors.KNeighborsRegressor(n_neighbors=100)\n",
    "knn.fit(X_train,y_train)\n",
    "\n",
    "pred_knn = knn.predict(X_test)\n",
    "print('Actual:    %s' % y_test[1:7].values)\n",
    "print('Predicted: %s' % pred_knn[1:7])\n",
    "print(\"Score is: %s\" % (knn.score(X_test, y_test)))"
   ]
  },
  {
   "cell_type": "markdown",
   "metadata": {},
   "source": [
    "## Predicting total purchase per customer using product count"
   ]
  },
  {
   "cell_type": "code",
   "execution_count": 192,
   "metadata": {},
   "outputs": [
    {
     "name": "stdout",
     "output_type": "stream",
     "text": [
      "Optimal k value is: 21\n",
      "RMSE is 187734.83210748658\n"
     ]
    },
    {
     "data": {
      "image/png": "[encoded data removed]",
      "text/plain": [
       "<Figure size 432x288 with 1 Axes>"
      ]
     },
     "metadata": {
      "needs_background": "light"
     },
     "output_type": "display_data"
    }
   ],
   "source": [
    "#KNN to total puchase\n",
    "#Excluded occupation\n",
    "X_train, X_test, y_train, y_test = train_test_split(market_summ[['City', 'Age', 'Gender','Stay', 'Marital_Status', 'ProductCount']],\n",
    "                                                    total_purchased.Purchase, test_size=0.33)\n",
    "\n",
    "optimalK(150, X_train, X_test, y_train, y_test)"
   ]
  },
  {
   "cell_type": "code",
   "execution_count": 12,
   "metadata": {},
   "outputs": [
    {
     "name": "stdout",
     "output_type": "stream",
     "text": [
      "Actual:    [ 46  11 101  21  37 165  65 409  16]\n",
      "Predicted: [ 58.04761905  49.0952381   48.9047619  149.04761905  56.\n",
      " 115.19047619  52.28571429 197.57142857  49.85714286]\n",
      "Score is: 0.13267714415781073\n"
     ]
    }
   ],
   "source": [
    "knn = neighbors.KNeighborsRegressor(n_neighbors=21)\n",
    "\n",
    "knn.fit(X_train,y_train)\n",
    "\n",
    "pred_knn = knn.predict(X_test)\n",
    "print('Actual:    %s' % y_test[1:10].values)\n",
    "print('Predicted: %s' % pred_knn[1:10])\n",
    "print(\"Score is: %s\" % (knn.score(X_test, y_test)))"
   ]
  },
  {
   "cell_type": "code",
   "execution_count": null,
   "metadata": {},
   "outputs": [],
   "source": []
  }
 ],
 "metadata": {
  "kernelspec": {
   "display_name": "Python 3",
   "language": "python",
   "name": "python3"
  },
  "language_info": {
   "codemirror_mode": {
    "name": "ipython",
    "version": 3
   },
   "file_extension": ".py",
   "mimetype": "text/x-python",
   "name": "python",
   "nbconvert_exporter": "python",
   "pygments_lexer": "ipython3",
   "version": "3.5.4"
  }
 },
 "nbformat": 4,
 "nbformat_minor": 2
}
