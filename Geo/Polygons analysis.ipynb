{
 "cells": [
  {
   "cell_type": "code",
   "execution_count": 23,
   "metadata": {},
   "outputs": [
    {
     "name": "stdout",
     "output_type": "stream",
     "text": [
      "OrderedDict([('mean', 'float:24.15'),\n",
      "             ('sd', 'float:24.15'),\n",
      "             ('max', 'float:24.15'),\n",
      "             ('min', 'float:24.15'),\n",
      "             ('missVal', 'int:9'),\n",
      "             ('pixelCount', 'int:9'),\n",
      "             ('plot_id', 'int:9'),\n",
      "             ('date', 'str:80')])\n",
      "<fiona.ogrext.KeysIterator object at 0x0000024F662F55F8>\n"
     ]
    },
    {
     "ename": "TypeError",
     "evalue": "object of type 'filter' has no len()",
     "output_type": "error",
     "traceback": [
      "\u001b[1;31m---------------------------------------------------------------------------\u001b[0m",
      "\u001b[1;31mTypeError\u001b[0m                                 Traceback (most recent call last)",
      "\u001b[1;32m<ipython-input-23-ca175aa1a9f1>\u001b[0m in \u001b[0;36m<module>\u001b[1;34m\u001b[0m\n\u001b[0;32m     15\u001b[0m \u001b[0mpoly\u001b[0m \u001b[1;33m=\u001b[0m \u001b[0mfilter\u001b[0m\u001b[1;33m(\u001b[0m\u001b[1;32mlambda\u001b[0m \u001b[0mfeat\u001b[0m\u001b[1;33m:\u001b[0m \u001b[0mfeat\u001b[0m\u001b[1;33m[\u001b[0m\u001b[1;34m'properties'\u001b[0m\u001b[1;33m]\u001b[0m\u001b[1;33m[\u001b[0m\u001b[1;34m'plot_id'\u001b[0m\u001b[1;33m]\u001b[0m \u001b[1;33m==\u001b[0m \u001b[1;34m'1000'\u001b[0m \u001b[1;32mand\u001b[0m \u001b[0mfeat\u001b[0m\u001b[1;33m[\u001b[0m\u001b[1;34m'properties'\u001b[0m\u001b[1;33m]\u001b[0m\u001b[1;33m[\u001b[0m\u001b[1;34m'date'\u001b[0m\u001b[1;33m]\u001b[0m \u001b[1;33m==\u001b[0m \u001b[1;34m'20170327'\u001b[0m\u001b[1;33m,\u001b[0m \u001b[0mshapefile\u001b[0m\u001b[1;33m)\u001b[0m\u001b[1;33m\u001b[0m\u001b[0m\n\u001b[0;32m     16\u001b[0m \u001b[1;33m\u001b[0m\u001b[0m\n\u001b[1;32m---> 17\u001b[1;33m \u001b[0mlen\u001b[0m\u001b[1;33m(\u001b[0m\u001b[0mpoly\u001b[0m\u001b[1;33m)\u001b[0m\u001b[1;33m\u001b[0m\u001b[0m\n\u001b[0m",
      "\u001b[1;31mTypeError\u001b[0m: object of type 'filter' has no len()"
     ]
    }
   ],
   "source": [
    "import pprint\n",
    "import fiona\n",
    "from osgeo import ogr\n",
    "import geopandas as gpd\n",
    "from shapely.geometry import shape\n",
    "\n",
    "shapefile = fiona.open(\"polys.shp\")\n",
    "#pprint.pprint(shapefile.schema['geometry'])\n",
    "pprint.pprint(shapefile.schema['properties'])\n",
    "pprint.pprint(shapefile.keys()) #dictionary keys aka column names from attribute table\n",
    "\n",
    "#with fiona.open(\"file.shp\") as src:\n",
    "#    filtered = filter(lambda f: f['properties']['foo']=='bar', src)\n",
    "\n",
    "poly = filter(lambda feat: feat['properties']['plot_id'] == '1000' and feat['properties']['date'] == '20170327', shapefile)\n",
    "\n",
    "len(poly)\n"
   ]
  },
  {
   "cell_type": "code",
   "execution_count": null,
   "metadata": {},
   "outputs": [],
   "source": [
    "shape_geopanda = gpd.read_file(\"polys.shp\")\n",
    "\n",
    "file = ogr.Open(\"my_shapefile.shp\")\n",
    "shape_ogr = file.GetLayer(0)"
   ]
  },
  {
   "cell_type": "code",
   "execution_count": null,
   "metadata": {},
   "outputs": [],
   "source": []
  }
 ],
 "metadata": {
  "kernelspec": {
   "display_name": "Python 3",
   "language": "python",
   "name": "python3"
  },
  "language_info": {
   "codemirror_mode": {
    "name": "ipython",
    "version": 3
   },
   "file_extension": ".py",
   "mimetype": "text/x-python",
   "name": "python",
   "nbconvert_exporter": "python",
   "pygments_lexer": "ipython3",
   "version": "3.5.4"
  }
 },
 "nbformat": 4,
 "nbformat_minor": 2
}
