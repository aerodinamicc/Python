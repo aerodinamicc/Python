{
 "cells": [
  {
   "cell_type": "code",
   "execution_count": 5,
   "metadata": {},
   "outputs": [
    {
     "data": {
      "text/plain": [
       "['.ipynb_checkpoints',\n",
       " 'olist_closed_deals_dataset.csv',\n",
       " 'olist_marketing_qualified_leads_dataset.csv',\n",
       " 'Untitled.ipynb']"
      ]
     },
     "execution_count": 5,
     "metadata": {},
     "output_type": "execute_result"
    }
   ],
   "source": [
    "import os\n",
    "import numpy as np\n",
    "import pandas as pd\n",
    "import matplotlib.pyplot as plt\n",
    "import seaborn as sns\n",
    "from scipy import stats\n",
    "\n",
    "os.listdir()"
   ]
  },
  {
   "cell_type": "code",
   "execution_count": 8,
   "metadata": {},
   "outputs": [],
   "source": [
    "data = pd.read_csv('olist_marketing_qualified_leads_dataset.csv')\n",
    "closedDeals = pd.read_csv('olist_closed_deals_dataset.csv')"
   ]
  },
  {
   "cell_type": "code",
   "execution_count": 7,
   "metadata": {},
   "outputs": [
    {
     "name": "stdout",
     "output_type": "stream",
     "text": [
      "                             mql_id first_contact_date  \\\n",
      "0  dac32acd4db4c29c230538b72f8dd87d         2018-02-01   \n",
      "1  8c18d1de7f67e60dbd64e3c07d7e9d5d         2017-10-20   \n",
      "2  b4bc852d233dfefc5131f593b538befa         2018-03-22   \n",
      "3  6be030b81c75970747525b843c1ef4f8         2018-01-22   \n",
      "4  5420aad7fec3549a85876ba1c529bd84         2018-02-21   \n",
      "\n",
      "                    landing_page_id          origin  \n",
      "0  88740e65d5d6b056e0cda098e1ea6313          social  \n",
      "1  007f9098284a86ee80ddeb25d53e0af8     paid_search  \n",
      "2  a7982125ff7aa3b2054c6e44f9d28522  organic_search  \n",
      "3  d45d558f0daeecf3cccdffe3c59684aa           email  \n",
      "4  b48ec5f3b04e9068441002a19df93c6c  organic_search  \n",
      "Index(['mql_id', 'first_contact_date', 'landing_page_id', 'origin'], dtype='object')\n",
      "<class 'pandas.core.frame.DataFrame'>\n",
      "RangeIndex: 8000 entries, 0 to 7999\n",
      "Data columns (total 4 columns):\n",
      "mql_id                8000 non-null object\n",
      "first_contact_date    8000 non-null object\n",
      "landing_page_id       8000 non-null object\n",
      "origin                7940 non-null object\n",
      "dtypes: object(4)\n",
      "memory usage: 250.1+ KB\n",
      "None\n"
     ]
    }
   ],
   "source": [
    "print(data.head())\n",
    "print(data.columns)\n",
    "print(data.info())"
   ]
  },
  {
   "cell_type": "code",
   "execution_count": 9,
   "metadata": {},
   "outputs": [
    {
     "name": "stdout",
     "output_type": "stream",
     "text": [
      "                             mql_id                         seller_id  \\\n",
      "0  5420aad7fec3549a85876ba1c529bd84  2c43fb513632d29b3b58df74816f1b06   \n",
      "1  a555fb36b9368110ede0f043dfc3b9a0  bbb7d7893a450660432ea6652310ebb7   \n",
      "2  327174d3648a2d047e8940d7d15204ca  612170e34b97004b3ba37eae81836b4c   \n",
      "3  f5fee8f7da74f4887f5bcae2bafb6dd6  21e1781e36faf92725dde4730a88ca0f   \n",
      "4  ffe640179b554e295c167a2f6be528e0  ed8cb7b190ceb6067227478e48cf8dde   \n",
      "\n",
      "                             sdr_id                             sr_id  \\\n",
      "0  a8387c01a09e99ce014107505b92388c  4ef15afb4b2723d8f3d81e51ec7afefe   \n",
      "1  09285259593c61296eef10c734121d5b  d3d1e91a157ea7f90548eef82f1955e3   \n",
      "2  b90f87164b5f8c2cfa5c8572834dbe3f  6565aa9ce3178a5caf6171827af3a9ba   \n",
      "3  56bf83c4bb35763a51c2baab501b4c67  d3d1e91a157ea7f90548eef82f1955e3   \n",
      "4  4b339f9567d060bcea4f5136b9f5949e  d3d1e91a157ea7f90548eef82f1955e3   \n",
      "\n",
      "              won_date business_segment      lead_type lead_behaviour_profile  \\\n",
      "0  2018-02-26 19:58:54              pet  online_medium                    cat   \n",
      "1  2018-05-08 20:17:59  car_accessories       industry                  eagle   \n",
      "2  2018-06-05 17:27:23  home_appliances     online_big                    cat   \n",
      "3  2018-01-17 13:51:03       food_drink   online_small                    NaN   \n",
      "4  2018-07-03 20:17:45  home_appliances       industry                   wolf   \n",
      "\n",
      "  has_company has_gtin average_stock business_type  \\\n",
      "0         NaN      NaN           NaN      reseller   \n",
      "1         NaN      NaN           NaN      reseller   \n",
      "2         NaN      NaN           NaN      reseller   \n",
      "3         NaN      NaN           NaN      reseller   \n",
      "4         NaN      NaN           NaN  manufacturer   \n",
      "\n",
      "   declared_product_catalog_size  declared_monthly_revenue  \n",
      "0                            NaN                       0.0  \n",
      "1                            NaN                       0.0  \n",
      "2                            NaN                       0.0  \n",
      "3                            NaN                       0.0  \n",
      "4                            NaN                       0.0  \n",
      "Index(['mql_id', 'seller_id', 'sdr_id', 'sr_id', 'won_date',\n",
      "       'business_segment', 'lead_type', 'lead_behaviour_profile',\n",
      "       'has_company', 'has_gtin', 'average_stock', 'business_type',\n",
      "       'declared_product_catalog_size', 'declared_monthly_revenue'],\n",
      "      dtype='object')\n",
      "<class 'pandas.core.frame.DataFrame'>\n",
      "RangeIndex: 842 entries, 0 to 841\n",
      "Data columns (total 14 columns):\n",
      "mql_id                           842 non-null object\n",
      "seller_id                        842 non-null object\n",
      "sdr_id                           842 non-null object\n",
      "sr_id                            842 non-null object\n",
      "won_date                         842 non-null object\n",
      "business_segment                 841 non-null object\n",
      "lead_type                        836 non-null object\n",
      "lead_behaviour_profile           665 non-null object\n",
      "has_company                      63 non-null object\n",
      "has_gtin                         64 non-null object\n",
      "average_stock                    66 non-null object\n",
      "business_type                    832 non-null object\n",
      "declared_product_catalog_size    69 non-null float64\n",
      "declared_monthly_revenue         842 non-null float64\n",
      "dtypes: float64(2), object(12)\n",
      "memory usage: 92.2+ KB\n",
      "None\n"
     ]
    }
   ],
   "source": [
    "print(closedDeals.head())\n",
    "print(closedDeals.columns)\n",
    "print(closedDeals.info())"
   ]
  },
  {
   "cell_type": "code",
   "execution_count": null,
   "metadata": {},
   "outputs": [],
   "source": []
  }
 ],
 "metadata": {
  "kernelspec": {
   "display_name": "Python 3",
   "language": "python",
   "name": "python3"
  },
  "language_info": {
   "codemirror_mode": {
    "name": "ipython",
    "version": 3
   },
   "file_extension": ".py",
   "mimetype": "text/x-python",
   "name": "python",
   "nbconvert_exporter": "python",
   "pygments_lexer": "ipython3",
   "version": "3.5.4"
  }
 },
 "nbformat": 4,
 "nbformat_minor": 2
}
